{
 "cells": [
  {
   "cell_type": "markdown",
   "metadata": {},
   "source": [
    "Information entropy:\n",
    "$$\n",
    "\\mathrm{Ent}(D)=-\\sum_{k=1}^{|\\mathcal{Y}|}p_k\\log_2p_k.\n",
    "$$\n",
    "$D:$ total sample data\n",
    "\n",
    "$p_k:$ the percentage of the kst sample"
   ]
  },
  {
   "cell_type": "markdown",
   "metadata": {},
   "source": [
    "Information gain\n",
    "$$\n",
    "\\mathrm{Gain}(D,a)=\\mathrm{Ent}(D)-\\sum_{v=1}^V\\frac{|D^v|}{|D|}\\mathrm{Ent}(D^v).\n",
    "$$\n",
    "suppose $a$ (one attribute) has $V$ cases $(a^1,a^2,...a^V)$\n"
   ]
  },
  {
   "cell_type": "markdown",
   "metadata": {},
   "source": [
    "For an example, this is the data set:\n",
    "![](1.png)"
   ]
  },
  {
   "cell_type": "markdown",
   "metadata": {},
   "source": [
    "The information entropy is:\n",
    "$$\n",
    "\\mathrm{Ent}(D)=-\\sum_{k=1}^{2}p_{k}\\log_{2}p_{k}=-\\left(\\frac{8}{17}\\log_{2}\\frac{8}{17}+\\frac{9}{17}\\log_{2}\\frac{9}{17}\\right)=0.998.\n",
    "$$\n",
    "If we choose '色泽' to split this data, that means:\n",
    "$$\n",
    "D^1\\text{(色泽=青绿)}， D^2 (色泽=乌黑)， D^3 ( 色泽=浅白).\n",
    "$$\n",
    "And the information gain are:\n",
    "$$\n",
    "\\begin{gathered}\n",
    "\\mathrm{Ent}(D^{1}) =-\\left(\\frac36\\log_2\\frac36+\\frac36\\log_2\\frac36\\right)=1.000, \\\\\n",
    "\\mathrm{Ent}(D^{2}) =-\\left(\\frac46\\log_2\\frac46+\\frac26\\log_2\\frac26\\right)=0.918, \\\\\n",
    "\\mathrm{Ent}(D^3) =-\\left(\\frac15\\log_2\\frac15+\\frac45\\log_2\\frac45\\right)=0.722, \n",
    "\\end{gathered}\n",
    "$$\n",
    "$$\n",
    "\\begin{aligned}\n",
    "\\mathrm{Gain}(D,\\text{色泽})& =\\mathrm{Ent}(D)-\\sum_{v=1}^{3}\\frac{|D^{v}|}{|D|}\\mathrm{Ent}(D^{v})  \\\\\n",
    "&=0.998-\\left(\\frac{6}{17}\\times1.000+\\frac{6}{17}\\times0.918+\\frac{5}{17}\\times0.722\\right) \\\\\n",
    "&=0.109.\n",
    "\\end{aligned}\n",
    "$$\n",
    "By the same way,\n",
    "$$\n",
    "\\begin{aligned}&\\mathrm{Gain}(D,\\text{根蒂})=0.143;\\quad\\mathrm{Gain}(D,\\text{敲声})=0.141;\\\\&\\mathrm{Gain}(D,\\text{纹理})=0.381;\\quad\\mathrm{Gain}(D,\\text{脐部})=0.289;\\\\&\\mathrm{Gain}(D,\\text{触感})=0.006.\\end{aligned}\n",
    "$$"
   ]
  },
  {
   "cell_type": "markdown",
   "metadata": {},
   "source": [
    "“纹理” is the max one! So, we will have the follow dividing:\n",
    "\\begin{array}{cc}&\\boxed{\\text{纹理}=?}\\\\[5pt]\\text{清晰}&\\text{稍糊}&\\text{模糊}\\\\\\boxed{\\{1,2,3,4,5,6,8,10,15\\}}&\\boxed{\\{7,9,13,14,17\\}}&\\boxed{\\{11,12,16\\}}\\end{array}"
   ]
  },
  {
   "cell_type": "markdown",
   "metadata": {},
   "source": [
    "The next step is: for “清晰”, the attribute is “色泽，根蒂，敲声，脐部，触感”, and calculate the information gain:\n",
    "$$\n",
    "\\begin{aligned}&\\mathrm{Gain}(D^{1},\\text{色泽})=0.043;\\quad\\mathrm{Gain}(D^{1},\\text{根蒂})=0.458;\\\\&\\mathrm{Gain}(D^{1},\\text{敲声})=0.331;\\quad\\mathrm{Gain}(D^{1},\\text{脐部})=0.458;\\\\&\\mathrm{Gain}(D^{1},\\text{触感})=0.458.\\end{aligned}\n",
    "$$"
   ]
  },
  {
   "cell_type": "markdown",
   "metadata": {},
   "source": [
    "We will get the tree at last:\n",
    "![](2.png )"
   ]
  },
  {
   "cell_type": "code",
   "execution_count": 579,
   "metadata": {},
   "outputs": [],
   "source": [
    "import sys\n",
    "sys.path.append('../dataset')\n",
    "import data3\n",
    "import numpy as np\n",
    "\n",
    "_data, _labels, _labels_full  = data3.createDataSet()\n"
   ]
  },
  {
   "cell_type": "code",
   "execution_count": 580,
   "metadata": {},
   "outputs": [],
   "source": [
    "\"\"\" \n",
    "modify data\n",
    "\"\"\"\n",
    "labels = _labels[:-2]\n",
    "data = list()\n",
    "for i in range(len(_data)):\n",
    "    data.append(_data[i][0:-3]+[_data[i][-1]])\n",
    "\n",
    "labels_full = _labels_full"
   ]
  },
  {
   "cell_type": "code",
   "execution_count": 581,
   "metadata": {},
   "outputs": [],
   "source": [
    "\"\"\" \n",
    "entropy:\n",
    "p1 means the percentage of good\n",
    "p2 means the percentage of bad\n",
    "\"\"\"\n",
    "def entropy(p1, p2):\n",
    "    if p1 == 0 or p2 == 0:\n",
    "        entropy = -max(p1,p2)*np.log(max(p1,p2))\n",
    "    else:\n",
    "        entropy = -(p1*np.log(p1)+p2*np.log(p2))\n",
    "    return entropy/ np.log(2)"
   ]
  },
  {
   "cell_type": "code",
   "execution_count": 582,
   "metadata": {},
   "outputs": [],
   "source": [
    "\"\"\" \n",
    "get Ent(D)\n",
    "\"\"\"\n",
    "def origin_entropy(data):\n",
    "    p1 = sum(1 for item in data if item[-1] == \"好瓜\")/\\\n",
    "        (sum(1 for item in data if item[-1] != \"好瓜\")+sum(1 for item in data if item[-1] == \"好瓜\"))\n",
    "    p2 = 1 - p1\n",
    "    return entropy(p1,p2)"
   ]
  },
  {
   "cell_type": "code",
   "execution_count": 583,
   "metadata": {},
   "outputs": [],
   "source": [
    "\"\"\" \n",
    "counts the number of the good or bad of the ist attribute.\n",
    "For example, if the ist attribute is ‘色泽’, \n",
    "we will count the number of good melon about ‘色泽=青绿’, \n",
    "              the number of bad melon about ‘色泽=青绿’, \n",
    "              the number of good melon about ‘色泽=浅白’,\n",
    "              ..., .\n",
    "This method is used by information_gain()\n",
    "\"\"\"\n",
    "def count(ist,data):\n",
    "    labelList = [[data[ist]]+[data[-1]] for data in data]\n",
    "    good_counts = {attribute: 0 for attribute in labels_full[labels[ist]]}\n",
    "    bad_counts = {attribute: 0 for attribute in labels_full[labels[ist]]}\n",
    "    for item in labelList:\n",
    "        attribute, label = item\n",
    "        if label == '好瓜' and attribute in labels_full[labels[ist]]:\n",
    "            good_counts[attribute] += 1\n",
    "        else:\n",
    "            bad_counts[attribute]+=1\n",
    "    return good_counts, bad_counts\n",
    "\n",
    "\"\"\" \n",
    "information_gain:\n",
    "ist means the ist attribute.\n",
    "This will return the information gain of the ist attribute.\n",
    "\"\"\"\n",
    "\n",
    "def information_gain(last_entropy, ist,data):\n",
    "    good, bad = count(ist,data)\n",
    "    D = np.zeros(len(bad))\n",
    "    total = sum(good.values())+sum(bad.values())\n",
    "    for j, key in enumerate(good.keys()):\n",
    "        num_good = good.get(key, 0)\n",
    "        num_bad = bad.get(key, 0)\n",
    "        if (num_good+num_bad) == 0:\n",
    "            return 0\n",
    "        p1 = num_good/(num_good+num_bad)\n",
    "        p2 = 1-p1\n",
    "        D[j] = (num_good+num_bad)/total*entropy(p1,p2)\n",
    "    D = sum(D)\n",
    "    return last_entropy-D"
   ]
  },
  {
   "cell_type": "code",
   "execution_count": 584,
   "metadata": {},
   "outputs": [],
   "source": [
    "\"\"\" \n",
    "build the decision tree\n",
    "\"\"\"\n",
    "def best_feature_to_split(data):\n",
    "    Gain = [information_gain(origin_entropy(data),i,data) for i in range(len(labels))]\n",
    "    return Gain.index(max(Gain))\n",
    "\n",
    "def build_tree(data):\n",
    "    last_entropy = origin_entropy(data)\n",
    "    Gain = [information_gain(last_entropy,i,data) for i in range(len(labels))]\n",
    "    if max(Gain) == 0:\n",
    "        return data[-1][-1]\n",
    "    best_feature = best_feature_to_split(data)\n",
    "    tree = {labels[best_feature]:{}}\n",
    "    unique_values = labels_full[labels[best_feature]]\n",
    "    for value in unique_values:\n",
    "        sub_index = [index for index, row in enumerate(data) if value in row]\n",
    "        sub_data = [data[i] for i in sub_index]\n",
    "        sub_tree = build_tree(sub_data)\n",
    "        tree[labels[best_feature]][value] = sub_tree\n",
    "    return tree "
   ]
  },
  {
   "cell_type": "code",
   "execution_count": 585,
   "metadata": {},
   "outputs": [
    {
     "data": {
      "text/plain": [
       "{'纹理': {'稍糊': {'触感': {'软粘': '好瓜', '硬滑': '坏瓜'}},\n",
       "  '清晰': {'根蒂': {'稍蜷': {'触感': {'软粘': '坏瓜', '硬滑': '好瓜'}},\n",
       "    '硬挺': '坏瓜',\n",
       "    '蜷缩': '好瓜'}},\n",
       "  '模糊': '坏瓜'}}"
      ]
     },
     "execution_count": 585,
     "metadata": {},
     "output_type": "execute_result"
    }
   ],
   "source": [
    "build_tree(data)"
   ]
  }
 ],
 "metadata": {
  "kernelspec": {
   "display_name": "base",
   "language": "python",
   "name": "python3"
  },
  "language_info": {
   "codemirror_mode": {
    "name": "ipython",
    "version": 3
   },
   "file_extension": ".py",
   "mimetype": "text/x-python",
   "name": "python",
   "nbconvert_exporter": "python",
   "pygments_lexer": "ipython3",
   "version": "3.11.7"
  }
 },
 "nbformat": 4,
 "nbformat_minor": 2
}
