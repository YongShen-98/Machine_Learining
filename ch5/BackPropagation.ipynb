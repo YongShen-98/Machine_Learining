{
 "cells": [
  {
   "cell_type": "markdown",
   "metadata": {},
   "source": [
    "### Introduction to neural networks\n",
    "\n",
    "<img src=\"1.png\" width=\"500\" style=\"display: block; margin: 0 auto;\"/>"
   ]
  },
  {
   "cell_type": "markdown",
   "metadata": {},
   "source": [
    "$f$: activation function. We always use Sigmod function as the activation function.\n",
    "<img src=\"2.png\" width=\"250\" style=\"display: block; margin: 0 auto;\" />\n"
   ]
  },
  {
   "cell_type": "markdown",
   "metadata": {},
   "source": [
    "### Perceptron\n",
    "\n",
    "If there are two layers of neurons, it is \"Perceptron\":\n",
    "\n",
    "This is a picture describing that two input in \"Perceptron\".\n",
    "<img src=\"3.png\" width=\"250\" style=\"display: block; margin: 0 auto;\" />\n",
    "At this time, we have:\n",
    "$$\n",
    "y=f(\\sum_iw_ix_i-\\theta)\n",
    "$$\n"
   ]
  },
  {
   "cell_type": "markdown",
   "metadata": {},
   "source": [
    "The parameters can be learned given by lots of training datas $(x_i, y_i)$.\n",
    "$$\n",
    "w_i\\leftarrow w_i+\\Delta w_i ,\\\\\\Delta w_i=\\eta(y-\\hat{y})x_i ,\n",
    "$$"
   ]
  },
  {
   "cell_type": "markdown",
   "metadata": {},
   "source": [
    "### BackPropagation(more layers than perceptron)\n",
    "\n",
    "Given data:\n",
    "$$\n",
    "D=\\{(x_1,y_1), (x_2,y_2), ..., (x_m,y_m)\\}, \\quad x_i\\in R^d, y_i\\in R^l\n",
    "$$\n"
   ]
  },
  {
   "cell_type": "code",
   "execution_count": 139,
   "metadata": {},
   "outputs": [],
   "source": [
    "import numpy as np\n",
    "import matplotlib.pyplot as plt"
   ]
  },
  {
   "cell_type": "code",
   "execution_count": 140,
   "metadata": {},
   "outputs": [
    {
     "name": "stdout",
     "output_type": "stream",
     "text": [
      "Epoch 0, Loss: 0.4044804799815229\n",
      "Epoch 1000, Loss: 0.18134031539118126\n",
      "Epoch 2000, Loss: 0.1728180254868281\n",
      "Epoch 3000, Loss: 0.16548798785468602\n",
      "Epoch 4000, Loss: 0.14672326004993044\n",
      "Epoch 5000, Loss: 0.10382904898387413\n",
      "Epoch 6000, Loss: 0.054152632127331235\n",
      "Epoch 7000, Loss: 0.030224234280828908\n",
      "Epoch 8000, Loss: 0.018762350944502564\n",
      "Epoch 9000, Loss: 0.012522346080511122\n",
      "训练后的输出：\n",
      "[[0.99930208]\n",
      " [0.95612378]\n",
      " [0.94447147]\n",
      " [0.99609093]\n",
      " [0.94887374]\n",
      " [0.82287547]\n",
      " [0.8196437 ]\n",
      " [0.9394065 ]\n",
      " [0.00481621]\n",
      " [0.00273251]\n",
      " [0.00487501]\n",
      " [0.1749741 ]\n",
      " [0.05818098]\n",
      " [0.15819959]\n",
      " [0.13187904]\n",
      " [0.00431927]\n",
      " [0.00365429]]\n"
     ]
    },
    {
     "data": {
      "text/plain": [
       "[<matplotlib.lines.Line2D at 0x255c50e8510>]"
      ]
     },
     "execution_count": 140,
     "metadata": {},
     "output_type": "execute_result"
    },
    {
     "data": {
      "image/png": "[encoded data removed]",
      "text/plain": [
       "<Figure size 640x480 with 1 Axes>"
      ]
     },
     "metadata": {},
     "output_type": "display_data"
    }
   ],
   "source": [
    "# Sigmoid激活函数及其导数\n",
    "def sigmoid(x):\n",
    "    return 1 / (1 + np.exp(-x))\n",
    "\n",
    "def sigmoid_derivative(x):\n",
    "    return x * (1 - x)\n",
    "\n",
    "# 初始化数据 (西瓜书数据集例子)\n",
    "# 每行数据包括特征（除去最后一列）和标签（最后一列）\n",
    "data = np.array([\n",
    "    [0.697, 0.460, 1],\n",
    "    [0.774, 0.376, 1],\n",
    "    [0.634, 0.264, 1],\n",
    "    [0.608, 0.318, 1],\n",
    "    [0.556, 0.215, 1],\n",
    "    [0.403, 0.237, 1],\n",
    "    [0.481, 0.149, 1],\n",
    "    [0.437, 0.211, 1],\n",
    "    [0.666, 0.091, 0],\n",
    "    [0.243, 0.267, 0],\n",
    "    [0.245, 0.057, 0],\n",
    "    [0.343, 0.099, 0],\n",
    "    [0.639, 0.161, 0],\n",
    "    [0.657, 0.198, 0],\n",
    "    [0.360, 0.370, 0],\n",
    "    [0.593, 0.042, 0],\n",
    "    [0.719, 0.103, 0]\n",
    "])\n",
    "\n",
    "# 特征和标签\n",
    "X = data[:, :2]     # 两个特征：密度和含糖率\n",
    "y = data[:, 2].reshape(-1, 1)  # 标签（好瓜/坏瓜）\n",
    "\n",
    "# 初始化神经网络的参数\n",
    "input_neurons = X.shape[1]  # 输入层神经元数\n",
    "hidden_neurons = 4          # 隐藏层神经元数，可以调整\n",
    "output_neurons = 1          # 输出层神经元数（好瓜/坏瓜）\n",
    "\n",
    "# 初始化权重和偏置\n",
    "np.random.seed(42)          # 固定随机数种子，保证每次结果一样\n",
    "weights_input_hidden = np.random.rand(input_neurons, hidden_neurons)\n",
    "weights_hidden_output = np.random.rand(hidden_neurons, output_neurons)\n",
    "bias_hidden = np.random.rand(1, hidden_neurons)\n",
    "bias_output = np.random.rand(1, output_neurons)\n",
    "\n",
    "# 定义超参数\n",
    "learning_rate = 0.1\n",
    "epochs = 10000\n",
    "\n",
    "# 训练BP算法\n",
    "for epoch in range(epochs):\n",
    "    # 前向传播\n",
    "    hidden_layer_input = np.dot(X, weights_input_hidden) + bias_hidden\n",
    "    hidden_layer_activation = sigmoid(hidden_layer_input)\n",
    "\n",
    "    output_layer_input = np.dot(hidden_layer_activation, weights_hidden_output) + bias_output\n",
    "    predicted_output = sigmoid(output_layer_input)\n",
    "\n",
    "    # 计算误差\n",
    "    error = y - predicted_output\n",
    "\n",
    "    # 反向传播\n",
    "    d_predicted_output = error * sigmoid_derivative(predicted_output)\n",
    "    error_hidden_layer = d_predicted_output.dot(weights_hidden_output.T)\n",
    "    d_hidden_layer = error_hidden_layer * sigmoid_derivative(hidden_layer_activation)\n",
    "\n",
    "    # 更新权重和偏置\n",
    "    weights_hidden_output += hidden_layer_activation.T.dot(d_predicted_output) * learning_rate\n",
    "    bias_output += np.sum(d_predicted_output, axis=0, keepdims=True) * learning_rate\n",
    "    weights_input_hidden += X.T.dot(d_hidden_layer) * learning_rate\n",
    "    bias_hidden += np.sum(d_hidden_layer, axis=0, keepdims=True) * learning_rate\n",
    "\n",
    "    # 打印训练进度\n",
    "    if epoch % 1000 == 0:\n",
    "        loss = np.mean(np.square(error))\n",
    "        print(f\"Epoch {epoch}, Loss: {loss}\")\n",
    "\n",
    "# 显示最终输出\n",
    "print(\"训练后的输出：\")\n",
    "print(predicted_output)\n",
    "\n",
    "\n",
    "plt.plot(predicted_output)\n",
    "plt.plot(Y)"
   ]
  },
  {
   "cell_type": "code",
   "execution_count": 168,
   "metadata": {},
   "outputs": [
    {
     "name": "stdout",
     "output_type": "stream",
     "text": [
      "训练后的输出：\n",
      "[0.99111534 0.93511285 0.97597397 0.99079187 0.98578203 0.91627173\n",
      " 0.90029596 0.90280171 0.00939511 0.06324972 0.01886379 0.04872134\n",
      " 0.07411508 0.07046104 0.10595621 0.03997698 0.06008624]\n",
      "真实标签的输出：\n",
      "[1. 1. 1. 1. 1. 1. 1. 1. 0. 0. 0. 0. 0. 0. 0. 0. 0.]\n"
     ]
    },
    {
     "data": {
      "text/plain": [
       "[<matplotlib.lines.Line2D at 0x255c6a030d0>]"
      ]
     },
     "execution_count": 168,
     "metadata": {},
     "output_type": "execute_result"
    },
    {
     "data": {
      "image/png": "[encoded data removed]",
      "text/plain": [
       "<Figure size 640x480 with 1 Axes>"
      ]
     },
     "metadata": {},
     "output_type": "display_data"
    }
   ],
   "source": [
    "import sys\n",
    "sys.path.append('../dataset')\n",
    "import data3\n",
    "\n",
    "data = data3.createDataSet()[0]\n",
    "for row in data:\n",
    "    row[:] = [1 if x == '青绿' else x for x in row]\n",
    "    row[:] = [0.75 if x == '乌黑' else x for x in row]\n",
    "    row[:] = [0.5 if x == '浅白' else x for x in row]\n",
    "    row[:] = [1 if x == '蜷缩' else x for x in row]\n",
    "    row[:] = [0.75 if x == '稍蜷' else x for x in row]\n",
    "    row[:] = [0.5 if x == '硬挺' else x for x in row]\n",
    "    row[:] = [1 if x == '浊响' else x for x in row]\n",
    "    row[:] = [0.75 if x == '沉闷' else x for x in row]\n",
    "    row[:] = [0.5 if x == '清脆' else x for x in row]\n",
    "    row[:] = [1 if x == '清晰' else x for x in row]\n",
    "    row[:] = [0.75 if x == '稍糊' else x for x in row]\n",
    "    row[:] = [0.5 if x == '模糊' else x for x in row]\n",
    "    row[:] = [1 if x == '凹陷' else x for x in row]\n",
    "    row[:] = [0.75 if x == '稍凹' else x for x in row]\n",
    "    row[:] = [0.5 if x == '平坦' else x for x in row]\n",
    "    row[:] = [1 if x == '硬滑' else x for x in row]\n",
    "    row[:] = [0.5 if x == '软粘' else x for x in row]\n",
    "    row[:] = [1 if x == '好瓜' else x for x in row]\n",
    "    row[:] = [0 if x == '坏瓜' else x for x in row]\n",
    "\n",
    "# Sigmoid  and its derivate\n",
    "def sigmoid(x):\n",
    "    return 1 / (1 + np.exp(-x))\n",
    "\n",
    "def sigmoid_derivative(x):\n",
    "    return x * (1 - x) \n",
    "\n",
    "# define features and labels (x,y)\n",
    "data = np.array(data)\n",
    "X = data[:,:-1]\n",
    "# X = np.delete(X, slice(0, 6), axis=1) 删除第1到6列\n",
    "X = np.delete(X, slice(2, 4), axis=1)\n",
    "Y = data[:,-1]\n",
    "\n",
    "# 初始化神经网络的参数\n",
    "input_neurons = X.shape[1]  # 输入层神经元数\n",
    "hidden_neurons = 4          # 隐藏层神经元数，可以调整\n",
    "output_neurons = 1          # 输出层神经元数（好瓜/坏瓜）\n",
    "\n",
    "learning_rate = 0.1\n",
    "\n",
    "# 初始化权重和偏置\n",
    "np.random.seed(42)          # 固定随机数种子，保证每次结果一样\n",
    "weights_input_hidden = np.random.rand(input_neurons, hidden_neurons)\n",
    "weights_hidden_output = np.random.rand(hidden_neurons, output_neurons)\n",
    "bias_hidden = np.random.rand(1, hidden_neurons)\n",
    "bias_output = np.random.rand(1, output_neurons)\n",
    "\n",
    "for iter in range(10000):\n",
    "    # forward\n",
    "    hidden_layer_input = X@weights_input_hidden + bias_hidden\n",
    "    hidden_layer_activation = sigmoid(hidden_layer_input)\n",
    "\n",
    "    output_layer_input = hidden_layer_activation@weights_hidden_output + bias_output\n",
    "    predicted_output = sigmoid(output_layer_input)\n",
    "    predicted_output = predicted_output.reshape(17,)\n",
    "\n",
    "    error = Y - predicted_output\n",
    "\n",
    "    # backward\n",
    "    d_predicted_output = error * sigmoid_derivative(predicted_output)\n",
    "    error_hidden_layer = np.outer(d_predicted_output, weights_hidden_output)\n",
    "    d_hidden_layer = error_hidden_layer * sigmoid_derivative(hidden_layer_activation)\n",
    "\n",
    "    # update\n",
    "    weights_hidden_output += (hidden_layer_activation.T@d_predicted_output*learning_rate).reshape((hidden_neurons,1))\n",
    "    bias_output += np.sum(d_predicted_output, axis=0, keepdims=True) * learning_rate\n",
    "    weights_input_hidden += X.T@d_hidden_layer * learning_rate\n",
    "    bias_hidden += np.sum(d_hidden_layer, axis=0, keepdims=True) * learning_rate\n",
    "    \n",
    "# 显示最终输出\n",
    "print(\"训练后的输出：\")\n",
    "print(predicted_output)\n",
    "print(\"真实标签的输出：\")\n",
    "print(Y)\n",
    "\n",
    "plt.plot(predicted_output)\n",
    "plt.plot(Y)"
   ]
  }
 ],
 "metadata": {
  "kernelspec": {
   "display_name": "base",
   "language": "python",
   "name": "python3"
  },
  "language_info": {
   "codemirror_mode": {
    "name": "ipython",
    "version": 3
   },
   "file_extension": ".py",
   "mimetype": "text/x-python",
   "name": "python",
   "nbconvert_exporter": "python",
   "pygments_lexer": "ipython3",
   "version": "3.11.7"
  }
 },
 "nbformat": 4,
 "nbformat_minor": 2
}
