{
 "cells": [
  {
   "cell_type": "markdown",
   "metadata": {},
   "source": [
    "一般的线性模型:\n",
    "$$\n",
    "y = w^Tx+b\n",
    "$$\n",
    "广义线性模型 (将 $y$ 的值映射到 $[0,1]$ 内):\n",
    "$$\n",
    "y = g^{-1}(w^Tx+b)\n",
    "$$\n",
    "常用函数—— logistic function:\n",
    "$$\n",
    "y = \\frac{1}{1+e^{-(w^Tx+b)}}\n",
    "$$\n",
    "说明:\n",
    "\n",
    "$x=(x_1,...,)$ 表示属性"
   ]
  },
  {
   "cell_type": "markdown",
   "metadata": {},
   "source": [
    "这里的 $y$ 可以看作类后验概率 $p(y=1|x)$, 就把它当作一个概率, 属性是 $x$ 时, $y=1$ 的概率.\n",
    "所以 $1-y = p(y=0|x)$.\n",
    "\n",
    "接下来就是确定参数 $\\omega, b$"
   ]
  },
  {
   "cell_type": "markdown",
   "metadata": {},
   "source": [
    "方便起见, 令\n",
    "$$\n",
    "\\beta = (w;b)\\quad x = (x;1)\n",
    "$$"
   ]
  },
  {
   "cell_type": "markdown",
   "metadata": {},
   "source": [
    "直接给结论: 我们需要最小化下面这个式子\n",
    "$$\n",
    "l(\\beta) = \\sum_{i=1}^{m}\\big(-y_i\\beta^Tx_i+\\ln(1+e^{\\beta^Tx_i})\\big)\n",
    "$$\n",
    "找到使上面式子最小的 $\\beta$, 从而可以得知参数 $w,b$."
   ]
  },
  {
   "cell_type": "markdown",
   "metadata": {},
   "source": [
    "$$\n",
    "\\boldsymbol{\\beta}^{t+1}=\\boldsymbol{\\beta}^t-\\left(\\frac{\\partial^2\\ell(\\boldsymbol{\\beta})}{\\partial\\boldsymbol{\\beta}\\partial\\boldsymbol{\\beta}^\\mathrm{T}}\\right)^{-1}\\frac{\\partial\\ell\\left(\\boldsymbol{\\beta}\\right)}{\\partial\\boldsymbol{\\beta}}\n",
    "$$\n",
    "其中\n",
    "$$\n",
    "\\begin{aligned}\n",
    "\\frac{\\partial\\ell\\left(\\boldsymbol{\\beta}\\right)}{\\partial\\beta}& =-\\sum_{i=1}^m\\hat{\\boldsymbol{x}}_i(y_i-p_1(\\hat{\\boldsymbol{x}}_i;\\boldsymbol{\\beta})),  \\\\\n",
    "\\frac{\\partial^2\\ell\\left(\\boldsymbol{\\beta}\\right)}{\\partial\\boldsymbol{\\beta}\\partial\\boldsymbol{\\beta}^\\mathrm{T}}& =\\sum_{i=1}^m\\hat{\\boldsymbol{x}}_i\\hat{\\boldsymbol{x}}_i^\\mathrm{T}p_1(\\hat{\\boldsymbol{x}}_i;\\boldsymbol{\\beta})(1-p_1(\\hat{\\boldsymbol{x}}_i;\\boldsymbol{\\beta})). \n",
    "\\end{aligned}\n",
    "$$"
   ]
  },
  {
   "cell_type": "code",
   "execution_count": 1,
   "metadata": {},
   "outputs": [],
   "source": [
    "\"\"\" \n",
    "P69, 习题 3.3\n",
    "import some essential data and package\n",
    "\"\"\"\n",
    "import sys\n",
    "sys.path.append('../dataset')\n",
    "import data3\n",
    "import numpy as np\n",
    "\n",
    "\"\"\"  \n",
    "give data tha we need\n",
    "\"\"\"\n",
    "data = data3.createDataSet()\n",
    "\n",
    "Data = np.zeros((17,3))\n",
    "for i in range(len(data[0][:])):\n",
    "    Data[i,:-1] = data[0][i][6:8]\n",
    "Data[:8,2] = 1   # 1 means good, 0 means bad, Data = [x;y]"
   ]
  },
  {
   "cell_type": "code",
   "execution_count": 2,
   "metadata": {},
   "outputs": [],
   "source": [
    "\"\"\"\n",
    "every sample: X = (x,1); x is from Data!\n",
    "\"\"\"\n",
    "X = np.ones((17,3))\n",
    "X[:,:-1] = Data[:,:-1]\n",
    "Y = Data[:,-1]"
   ]
  },
  {
   "cell_type": "code",
   "execution_count": 3,
   "metadata": {},
   "outputs": [],
   "source": [
    "def p(_x,_beta):\n",
    "    return np.e**(_beta@_x)/(1+np.e**(_beta@_x))\n",
    "\n",
    "def dbeta(_X,_Y,_beta):\n",
    "    iterable = (x*(y-p(x,_beta)) for x, y in zip(_X, _Y))\n",
    "    return -np.sum(np.fromiter(iterable, dtype=np.dtype((float, 3))), axis=0)\n",
    "\n",
    "def ddbeta(_X,_beta):\n",
    "    iterable = (np.outer(x,x)*p(x,_beta)*(1-p(x,_beta)) for x in _X)\n",
    "    return np.sum(np.fromiter(iterable, dtype=np.dtype((float, (3,3)))), axis=0)"
   ]
  },
  {
   "cell_type": "code",
   "execution_count": 4,
   "metadata": {},
   "outputs": [
    {
     "name": "stdout",
     "output_type": "stream",
     "text": [
      "error is: 12.049592391541125\n",
      "error is: 0.0005829916964312787\n",
      "error is: 1.548661643369087e-08\n",
      "error is: 4.121147867408581e-13\n",
      "error is: 2.220446049250313e-15\n",
      "error is: 2.220446049250313e-15\n",
      "error is: 2.220446049250313e-15\n",
      "error is: 2.220446049250313e-15\n",
      "error is: 2.220446049250313e-15\n",
      "error is: 2.220446049250313e-15\n"
     ]
    }
   ],
   "source": [
    "\"\"\" \n",
    "Initial guess beta=(w;b)\n",
    "\"\"\"\n",
    "beta = np.array([0.5,2,1])\n",
    "max_iteration = 1000\n",
    "for iter in range(max_iteration):\n",
    "    beta_new = beta - np.linalg.inv(ddbeta(X,beta))@dbeta(X,Y,beta)\n",
    "    if iter%100 == 0:\n",
    "        print(\"error is:\",np.max(np.abs(beta_new-beta)))\n",
    "    beta = 0.1*beta_new+0.9*beta"
   ]
  },
  {
   "cell_type": "code",
   "execution_count": 10,
   "metadata": {},
   "outputs": [
    {
     "name": "stdout",
     "output_type": "stream",
     "text": [
      "the probability of 0 is good melon is 0.9715913420159087\n",
      "the probability of 1 is good melon is 0.9384079673856944\n",
      "the probability of 2 is good melon is 0.7066382101925186\n",
      "the probability of 3 is good melon is 0.8135342097453221\n",
      "the probability of 4 is good melon is 0.5048058213295722\n",
      "the probability of 5 is good melon is 0.4530055563123081\n",
      "the probability of 6 is good melon is 0.26036934431626446\n",
      "the probability of 7 is good melon is 0.3997031501480675\n"
     ]
    }
   ],
   "source": [
    "for index, x in enumerate(X[:8]):\n",
    "    print(\"the probability of\", index,\"is good melon is\", p(x,beta))"
   ]
  },
  {
   "cell_type": "code",
   "execution_count": 13,
   "metadata": {},
   "outputs": [
    {
     "name": "stdout",
     "output_type": "stream",
     "text": [
      "the probability of 8 is good melon is 0.2339772217892385\n",
      "the probability of 9 is good melon is 0.42110689643646904\n",
      "the probability of 10 is good melon is 0.050146188396586834\n",
      "the probability of 11 is good melon is 0.10851898057605383\n",
      "the probability of 12 is good melon is 0.4025673048474584\n",
      "the probability of 13 is good melon is 0.5312977379539784\n",
      "the probability of 14 is good melon is 0.7926504989306007\n",
      "the probability of 15 is good melon is 0.11608022112013412\n",
      "the probability of 16 is good melon is 0.2955993485038269\n"
     ]
    }
   ],
   "source": [
    "for index, x in enumerate(X[8:]):\n",
    "    print(\"the probability of\", index+8,\"is good melon is\", p(x,beta))"
   ]
  }
 ],
 "metadata": {
  "kernelspec": {
   "display_name": "base",
   "language": "python",
   "name": "python3"
  },
  "language_info": {
   "codemirror_mode": {
    "name": "ipython",
    "version": 3
   },
   "file_extension": ".py",
   "mimetype": "text/x-python",
   "name": "python",
   "nbconvert_exporter": "python",
   "pygments_lexer": "ipython3",
   "version": "3.11.7"
  }
 },
 "nbformat": 4,
 "nbformat_minor": 2
}
