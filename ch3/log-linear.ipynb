{
 "cells": [
  {
   "cell_type": "markdown",
   "metadata": {},
   "source": [
    "一般的线性模型:\n",
    "$$\n",
    "y = w^Tx+b\n",
    "$$\n",
    "广义线性模型 (将 $y$ 的值映射到 $[0,1]$ 内):\n",
    "$$\n",
    "y = g^{-1}(w^Tx+b)\n",
    "$$\n",
    "常用函数—— logistic function:\n",
    "$$\n",
    "y = \\frac{1}{1+e^{-(w^Tx+b)}}\n",
    "$$\n",
    "说明:\n",
    "\n",
    "$x=(x_1,...,)$ 表示属性"
   ]
  },
  {
   "cell_type": "markdown",
   "metadata": {},
   "source": [
    "这里的 $y$ 可以看作类后验概率 $p(y=1|x)$, 就把它当作一个概率, 属性是 $x$ 时, $y=1$ 的概率.\n",
    "所以 $1-y = p(y=0|x)$.\n",
    "\n",
    "接下来就是确定参数 $\\omega, b$"
   ]
  },
  {
   "cell_type": "markdown",
   "metadata": {},
   "source": [
    "方便起见, 令\n",
    "$$\n",
    "\\beta = (w;b)\\quad x = (x;1)\n",
    "$$"
   ]
  },
  {
   "cell_type": "markdown",
   "metadata": {},
   "source": [
    "直接给结论: 我们需要最小化下面这个式子\n",
    "$$\n",
    "l(\\beta) = \\sum_{i=1}^{m}\\big(-y_i\\beta^Tx_i+\\ln(1+e^{\\beta^Tx_i})\\big)\n",
    "$$\n",
    "找到使上面式子最小的 $\\beta$, 从而可以得知参数 $w,b$."
   ]
  },
  {
   "cell_type": "code",
   "execution_count": 52,
   "metadata": {},
   "outputs": [],
   "source": [
    "\"\"\" \n",
    "P69, 习题 3.3\n",
    "import some essential data and package\n",
    "\"\"\"\n",
    "import sys\n",
    "sys.path.append('../dataset')\n",
    "import data3\n",
    "import numpy as np"
   ]
  },
  {
   "cell_type": "code",
   "execution_count": 53,
   "metadata": {},
   "outputs": [],
   "source": [
    "\"\"\"  \n",
    "give data tha we need\n",
    "\"\"\"\n",
    "data = data3.createDataSet()"
   ]
  },
  {
   "cell_type": "code",
   "execution_count": 54,
   "metadata": {},
   "outputs": [],
   "source": [
    "Data = np.zeros((17,3))\n",
    "for i in range(len(data[0][:])):\n",
    "    Data[i,:-1] = data[0][i][6:8]\n",
    "Data[:8,2] = 1   # 1 means good, 0 means bad, Data = [x;y]"
   ]
  },
  {
   "cell_type": "code",
   "execution_count": 55,
   "metadata": {},
   "outputs": [],
   "source": [
    "\"\"\"\n",
    "every sample: X = (x,1); x is from Data!\n",
    "\"\"\"\n",
    "X = np.ones((17,3))\n",
    "X[:,:-1] = Data[:,:-1]\n",
    "Y = Data[:,-1]"
   ]
  },
  {
   "cell_type": "code",
   "execution_count": 89,
   "metadata": {},
   "outputs": [],
   "source": [
    "def p(_x,_beta):\n",
    "    return np.e**(_beta@_x)/(1+np.e**(_beta@_x))\n",
    "\n",
    "def dbeta(_X,_Y,_beta):\n",
    "    return -np.sum(x*(y-p(x,_beta)) for x,y in zip(_X,_Y))\n",
    "\n",
    "def ddbeta(_X,_beta):\n",
    "    return sum(x@x*p(x,_beta)*(1-p(x,_beta)) for x in _X)"
   ]
  },
  {
   "cell_type": "code",
   "execution_count": 90,
   "metadata": {},
   "outputs": [
    {
     "name": "stderr",
     "output_type": "stream",
     "text": [
      "C:\\Users\\yongshen\\AppData\\Local\\Temp\\ipykernel_11992\\1501360979.py:5: DeprecationWarning: Calling np.sum(generator) is deprecated, and in the future will give a different result. Use np.sum(np.fromiter(generator)) or the python sum builtin instead.\n",
      "  return -np.sum(x*(y-p(x,_beta)) for x,y in zip(_X,_Y))\n"
     ]
    },
    {
     "name": "stdout",
     "output_type": "stream",
     "text": [
      "error is: 1.3936857347281943\n",
      "error is: 0.03705590498497191\n",
      "error is: 0.020216159887077367\n",
      "error is: 0.01152727674300813\n",
      "error is: 0.006768966759834072\n",
      "error is: 0.004056181713551155\n",
      "error is: 0.002463133104098958\n",
      "error is: 0.0015083893193423847\n",
      "error is: 0.0009285550460109704\n",
      "error is: 0.0005734535824846176\n",
      "error is: 0.0003548513364695083\n",
      "error is: 0.00021984751217551946\n",
      "error is: 0.00013630788467189348\n",
      "error is: 8.455131653839487e-05\n",
      "error is: 5.246181136442374e-05\n",
      "error is: 3.255686492131815e-05\n",
      "error is: 2.0206410347611836e-05\n",
      "error is: 1.2541949944377961e-05\n",
      "error is: 7.785009117355912e-06\n",
      "error is: 4.8324175807579195e-06\n",
      "error is: 2.9996927661812833e-06\n",
      "error is: 1.862058983448378e-06\n",
      "error is: 1.1558800903088695e-06\n",
      "error is: 7.175196579112253e-07\n",
      "error is: 4.454057922487209e-07\n",
      "error is: 2.7648944822544763e-07\n",
      "error is: 1.7163334398162533e-07\n",
      "error is: 1.0654302151635875e-07\n",
      "error is: 6.613761271978547e-08\n",
      "error is: 4.105557316336217e-08\n",
      "error is: 2.5485652699330785e-08\n",
      "error is: 1.582047381987195e-08\n",
      "error is: 9.820716684316722e-09\n",
      "error is: 6.09630745884715e-09\n",
      "error is: 3.784343505230936e-09\n",
      "error is: 2.3491697476174522e-09\n",
      "error is: 1.4582699492393658e-09\n",
      "error is: 9.052367744288858e-10\n",
      "error is: 5.619344989327146e-10\n",
      "error is: 3.48826745266706e-10\n",
      "error is: 2.1653789872289053e-10\n",
      "error is: 1.3441869839425635e-10\n",
      "error is: 8.344080981714797e-11\n",
      "error is: 5.1796789080071903e-11\n",
      "error is: 3.2153835149983934e-11\n",
      "error is: 1.9959145447501214e-11\n",
      "error is: 1.2390088954816747e-11\n",
      "error is: 7.691625114603085e-12\n",
      "error is: 4.774847184307873e-12\n",
      "error is: 2.9629632081196178e-12\n"
     ]
    }
   ],
   "source": [
    "\"\"\" \n",
    "Initial guess beta=(w;b)\n",
    "\"\"\"\n",
    "beta = np.array([0.75,0.75,0.75])\n",
    "max_iteration = 5000\n",
    "for iter in range(max_iteration):\n",
    "    beta_new = beta - ddbeta(X,beta)**(-1)*dbeta(X,Y,beta)\n",
    "    if iter%100 == 0:\n",
    "        print(\"error is:\",np.max(np.abs(beta_new-beta)))\n",
    "    beta = beta_new"
   ]
  },
  {
   "cell_type": "code",
   "execution_count": 91,
   "metadata": {},
   "outputs": [
    {
     "name": "stdout",
     "output_type": "stream",
     "text": [
      "0.9715913420127394\n",
      "0.9384079673804815\n",
      "0.7066382101857646\n",
      "0.813534209737614\n",
      "0.5048058213281559\n",
      "0.4530055563126666\n",
      "0.26036934432156394\n",
      "0.3997031501499947\n",
      "0.23397722179480573\n",
      "0.4211068964379758\n",
      "0.05014618840074019\n",
      "0.10851898058194996\n",
      "0.40256730484908043\n",
      "0.5312977379516366\n",
      "0.7926504989231057\n",
      "0.11608022112603056\n",
      "0.29559934850820146\n"
     ]
    }
   ],
   "source": [
    "for x in X:\n",
    "    print(p(x,beta))"
   ]
  },
  {
   "cell_type": "markdown",
   "metadata": {},
   "source": []
  }
 ],
 "metadata": {
  "kernelspec": {
   "display_name": "base",
   "language": "python",
   "name": "python3"
  },
  "language_info": {
   "codemirror_mode": {
    "name": "ipython",
    "version": 3
   },
   "file_extension": ".py",
   "mimetype": "text/x-python",
   "name": "python",
   "nbconvert_exporter": "python",
   "pygments_lexer": "ipython3",
   "version": "3.11.7"
  }
 },
 "nbformat": 4,
 "nbformat_minor": 2
}
