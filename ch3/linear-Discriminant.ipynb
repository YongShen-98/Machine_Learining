{
 "cells": [
  {
   "cell_type": "markdown",
   "metadata": {},
   "source": [
    "### 二分类问题\n",
    "\n",
    "给定数据集 $$D=\\{(x_i,y_i)\\}_{i=1}^m, \\quad y_i\\in\\{0,1\\}$$ \n",
    "\n",
    "记号说明:\n",
    "\n",
    "$\\qquad\\qquad X_i$ 是第 $i\\in\\{0,1\\}$ 的集合, \n",
    "\n",
    "$\\qquad\\qquad \\mu_i$ 是第 $i\\in\\{0,1\\}$ 的均值向量, \n",
    "\n",
    "$\\qquad\\qquad \\sum_i$ 是第 $i\\in\\{0,1\\}$ 的协方差矩阵.\n"
   ]
  },
  {
   "cell_type": "markdown",
   "metadata": {},
   "source": [
    "需要把数据投影到直线 $\\omega$ 上，\n",
    "\n",
    "$\\qquad\\qquad\\omega^T\\mu_0, \\omega^T\\mu_1$ 两类样本的中心在直线 $\\omega$ 上的投影 \n",
    "\n",
    "$\\qquad\\qquad\\omega^T\\sum_0\\omega, \\omega^T\\sum_1\\omega$ 两类样本在直线 $\\omega$ 上的协方差 "
   ]
  },
  {
   "cell_type": "markdown",
   "metadata": {},
   "source": [
    "目标:\n",
    "\n",
    "$\\qquad\\qquad$ 让 $||\\omega^T\\mu_0-\\omega^T\\mu_1||$ 尽量大,\n",
    "\n",
    "$\\qquad\\qquad$ 让 $\\omega^T\\sum_0\\omega+\\omega^T\\sum_1\\omega$ 尽量小。"
   ]
  },
  {
   "cell_type": "markdown",
   "metadata": {},
   "source": [
    "简化起见，引入两个符号:\n",
    "$$\n",
    "S_{\\omega} = \\sum_{x\\in X_0}(x-\\mu_0)(x-\\mu_0)^T+\\sum_{x\\in X_1}(x-\\mu_1)(x-\\mu_1)^T\\\\\n",
    "S_b = (\\mu_0-\\mu_1)(\\mu_0-\\mu_1)^T\n",
    "$$"
   ]
  },
  {
   "cell_type": "markdown",
   "metadata": {},
   "source": [
    "最小化如下问题:\n",
    "\n",
    "$$\n",
    "\\min_{\\omega} -\\omega^TS_b\\omega\\\\\n",
    "s.t.\\quad \\omega^TS_{\\omega}\\omega = 1 \n",
    "$$"
   ]
  },
  {
   "cell_type": "markdown",
   "metadata": {},
   "source": [
    "拉格朗日乘子法，我们知道 $\\nabla f(x^*) = \\lambda \\nabla g(x^*)$"
   ]
  },
  {
   "cell_type": "markdown",
   "metadata": {},
   "source": [
    "所以，\n",
    "$$\n",
    "S_b\\omega = \\lambda S_{\\omega}\\omega\n",
    "$$"
   ]
  },
  {
   "cell_type": "markdown",
   "metadata": {},
   "source": [
    "代入，可以得到:\n",
    "$$\n",
    "\\omega = S^{-1}_{\\omega}(\\mu_0-\\mu_1)\n",
    "$$"
   ]
  },
  {
   "cell_type": "markdown",
   "metadata": {},
   "source": [
    "能求逆就求逆，求不了用别的数值方法，奇异值分解啥的。"
   ]
  },
  {
   "cell_type": "code",
   "execution_count": 63,
   "metadata": {},
   "outputs": [],
   "source": [
    "\"\"\" \n",
    "P69, 习题 3.5\n",
    "import some essential data and package\n",
    "\"\"\"\n",
    "import sys\n",
    "sys.path.append('../dataset')\n",
    "import data3\n",
    "import numpy as np\n",
    "\n",
    "\"\"\"  \n",
    "give data tha we need\n",
    "\"\"\"\n",
    "data = data3.createDataSet()\n",
    "\n",
    "Data = np.zeros((17,3))\n",
    "for i in range(len(data[0][:])):\n",
    "    Data[i,:-1] = data[0][i][6:8]\n",
    "Data[:8,2] = 1   # 1 means good, 0 means bad, Data = [x;y]"
   ]
  },
  {
   "cell_type": "code",
   "execution_count": 64,
   "metadata": {},
   "outputs": [
    {
     "data": {
      "text/plain": [
       "array([[0.697, 0.46 , 1.   ],\n",
       "       [0.774, 0.376, 1.   ],\n",
       "       [0.634, 0.264, 1.   ],\n",
       "       [0.608, 0.318, 1.   ],\n",
       "       [0.556, 0.215, 1.   ],\n",
       "       [0.403, 0.237, 1.   ],\n",
       "       [0.481, 0.149, 1.   ],\n",
       "       [0.437, 0.211, 1.   ],\n",
       "       [0.666, 0.091, 0.   ],\n",
       "       [0.243, 0.267, 0.   ],\n",
       "       [0.245, 0.057, 0.   ],\n",
       "       [0.343, 0.099, 0.   ],\n",
       "       [0.639, 0.161, 0.   ],\n",
       "       [0.657, 0.198, 0.   ],\n",
       "       [0.36 , 0.37 , 0.   ],\n",
       "       [0.593, 0.042, 0.   ],\n",
       "       [0.719, 0.103, 0.   ]])"
      ]
     },
     "execution_count": 64,
     "metadata": {},
     "output_type": "execute_result"
    }
   ],
   "source": [
    "Data"
   ]
  },
  {
   "cell_type": "code",
   "execution_count": 65,
   "metadata": {},
   "outputs": [],
   "source": [
    "X0 = Data[:8,:-1]\n",
    "X1 = Data[8:,:-1]\n",
    "\n",
    "iterabel = (x for x in X0)\n",
    "mu0 = np.sum(np.fromiter(iterabel, dtype=np.dtype((float,2))), axis=0)/len(X0)\n",
    "iterabel = (x for x in X1)\n",
    "mu1 = np.sum(np.fromiter(iterabel, dtype=np.dtype((float,2))), axis=0)/len(X1)"
   ]
  },
  {
   "cell_type": "code",
   "execution_count": 66,
   "metadata": {},
   "outputs": [],
   "source": [
    "iterabel = (np.outer(x-mu0,x-mu0) for x in X0)\n",
    "sigma0 = np.sum(np.fromiter(iterabel, dtype=np.dtype((float,(2,2)))), axis=0)\n",
    "\n",
    "iterabel = (np.outer(x-mu1,x-mu1) for x in X1)\n",
    "sigma1 = np.sum(np.fromiter(iterabel, dtype=np.dtype((float,(2,2)))), axis=0)\n",
    "\n",
    "S_w = sigma0+sigma1"
   ]
  },
  {
   "cell_type": "code",
   "execution_count": 67,
   "metadata": {},
   "outputs": [],
   "source": [
    "\"\"\" \n",
    "directly solve S^(-1) by using np.linalg.inv\n",
    "\"\"\"\n",
    "S_inv = np.linalg.inv(S_w)"
   ]
  },
  {
   "cell_type": "code",
   "execution_count": 68,
   "metadata": {},
   "outputs": [],
   "source": [
    "omega = S_inv @ (mu0-mu1)"
   ]
  },
  {
   "cell_type": "code",
   "execution_count": 69,
   "metadata": {},
   "outputs": [
    {
     "name": "stdout",
     "output_type": "stream",
     "text": [
      "centre point of X0: 0.2899769715861622\n",
      "cov of X0: 0.056964627200140214\n",
      "0.4419265030134695\n",
      "0.3911556512547802\n",
      "0.28790813342043986\n",
      "0.32398951881202065\n",
      "0.24028330494024647\n",
      "0.2341190454797918\n",
      "0.1805398412693398\n",
      "0.21989377449920944\n"
     ]
    }
   ],
   "source": [
    "print(\"centre point of X0:\",mu0 @ omega)\n",
    "print(\"cov of X0:\",omega@sigma0@omega)\n",
    "for x in X0:\n",
    "    print(x@omega)"
   ]
  },
  {
   "cell_type": "code",
   "execution_count": 70,
   "metadata": {},
   "outputs": [
    {
     "name": "stdout",
     "output_type": "stream",
     "text": [
      "centre point of X1: 0.18661150423684048\n",
      "cov of X1: 0.04640084014918153\n",
      "0.16479865444520747\n",
      "0.23283894183997622\n",
      "0.07800169238528015\n",
      "0.12338570822742427\n",
      "0.212552979093571\n",
      "0.24252263177410727\n",
      "0.32606829378927393\n",
      "0.1179063750479005\n",
      "0.18142826152882366\n"
     ]
    }
   ],
   "source": [
    "print(\"centre point of X1:\", omega@mu1)\n",
    "print(\"cov of X1:\", omega@sigma1@omega)\n",
    "for x in X1:\n",
    "    print(x@omega)"
   ]
  }
 ],
 "metadata": {
  "kernelspec": {
   "display_name": "base",
   "language": "python",
   "name": "python3"
  },
  "language_info": {
   "codemirror_mode": {
    "name": "ipython",
    "version": 3
   },
   "file_extension": ".py",
   "mimetype": "text/x-python",
   "name": "python",
   "nbconvert_exporter": "python",
   "pygments_lexer": "ipython3",
   "version": "3.11.7"
  }
 },
 "nbformat": 4,
 "nbformat_minor": 2
}
