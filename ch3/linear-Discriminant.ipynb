{
 "cells": [
  {
   "cell_type": "markdown",
   "metadata": {},
   "source": [
    "### 二分类问题\n",
    "\n",
    "给定数据集 $$D=\\{(x_i,y_i)\\}_{i=1}^m, \\quad y_i\\in\\{0,1\\}$$ \n",
    "\n",
    "记号说明:\n",
    "\n",
    "$\\qquad\\qquad X_i$ 是第 $i\\in\\{0,1\\}$ 的集合, \n",
    "\n",
    "$\\qquad\\qquad \\mu_i$ 是第 $i\\in\\{0,1\\}$ 的均值向量, \n",
    "\n",
    "$\\qquad\\qquad \\sum_i$ 是第 $i\\in\\{0,1\\}$ 的协方差矩阵.\n"
   ]
  },
  {
   "cell_type": "markdown",
   "metadata": {},
   "source": [
    "需要把数据投影到直线 $\\omega$ 上，\n",
    "\n",
    "$\\qquad\\qquad\\omega^T\\mu_0, \\omega^T\\mu_1$ 两类样本的中心在直线 $\\omega$ 上的投影 \n",
    "\n",
    "$\\qquad\\qquad\\omega^T\\sum_0\\omega, \\omega^T\\sum_1\\omega$ 两类样本在直线 $\\omega$ 上的协方差 "
   ]
  },
  {
   "cell_type": "markdown",
   "metadata": {},
   "source": [
    "目标:\n",
    "\n",
    "$\\qquad\\qquad$ 让 $||\\omega^T\\mu_0-\\omega^T\\mu_1||$ 尽量大,\n",
    "\n",
    "$\\qquad\\qquad$ 让 $\\omega^T\\sum_0\\omega+\\omega^T\\sum_1\\omega$ 尽量小。"
   ]
  },
  {
   "cell_type": "markdown",
   "metadata": {},
   "source": [
    "简化起见，引入两个符号:\n",
    "$$\n",
    "S_{\\omega} = \\sum_{x\\in X_0}(x-\\mu_0)(x-\\mu_0)^T+\\sum_{x\\in X_1}(x-\\mu_1)(x-\\mu_1)^T\\\\\n",
    "S_b = (\\mu_0-\\mu_1)(\\mu_0-\\mu_1)^T\n",
    "$$"
   ]
  },
  {
   "cell_type": "markdown",
   "metadata": {},
   "source": [
    "最小化如下问题:\n",
    "\n",
    "$$\n",
    "\\min_{\\omega} -\\omega^TS_b\\omega\\\\\n",
    "s.t.\\quad \\omega^TS_{\\omega}\\omega = 1 \n",
    "$$"
   ]
  },
  {
   "cell_type": "markdown",
   "metadata": {},
   "source": [
    "拉格朗日乘子法，我们知道 $\\nabla f(x^*) = \\lambda \\nabla g(x^*)$"
   ]
  },
  {
   "cell_type": "markdown",
   "metadata": {},
   "source": [
    "所以，\n",
    "$$\n",
    "S_b\\omega = \\lambda S_{\\omega}\\omega\n",
    "$$"
   ]
  },
  {
   "cell_type": "markdown",
   "metadata": {},
   "source": [
    "代入，可以得到:\n",
    "$$\n",
    "\\omega = S^{-1}_{\\omega}(\\mu_0-\\mu_1)\n",
    "$$"
   ]
  },
  {
   "cell_type": "markdown",
   "metadata": {},
   "source": [
    "能求逆就求逆，求不了用别的数值方法，奇异值分解啥的。"
   ]
  },
  {
   "cell_type": "code",
   "execution_count": 1,
   "metadata": {},
   "outputs": [],
   "source": [
    "\"\"\" \n",
    "P69, 习题 3.5\n",
    "import some essential data and package\n",
    "\"\"\"\n",
    "import sys\n",
    "sys.path.append('../dataset')\n",
    "import data3\n",
    "import numpy as np\n",
    "\n",
    "\"\"\"  \n",
    "modify data that we need\n",
    "\"\"\"\n",
    "data = data3.createDataSet()\n",
    "\n",
    "Data = np.zeros((17,3))\n",
    "for i in range(len(data[0][:])):\n",
    "    Data[i,:-1] = data[0][i][6:8]\n",
    "Data[:8,2] = 1   # 1 means good, 0 means bad, Data = [x;y]"
   ]
  },
  {
   "cell_type": "code",
   "execution_count": 2,
   "metadata": {},
   "outputs": [],
   "source": [
    "X0 = Data[:8,:-1]\n",
    "X1 = Data[8:,:-1]\n",
    "\n",
    "iterabel = (x for x in X0)\n",
    "mu0 = np.sum(np.fromiter(iterabel, dtype=np.dtype((float,2))), axis=0)/len(X0)\n",
    "iterabel = (x for x in X1)\n",
    "mu1 = np.sum(np.fromiter(iterabel, dtype=np.dtype((float,2))), axis=0)/len(X1)"
   ]
  },
  {
   "cell_type": "code",
   "execution_count": 3,
   "metadata": {},
   "outputs": [],
   "source": [
    "iterabel = (np.outer(x-mu0,x-mu0) for x in X0)\n",
    "sigma0 = np.sum(np.fromiter(iterabel, dtype=np.dtype((float,(2,2)))), axis=0)\n",
    "\n",
    "iterabel = (np.outer(x-mu1,x-mu1) for x in X1)\n",
    "sigma1 = np.sum(np.fromiter(iterabel, dtype=np.dtype((float,(2,2)))), axis=0)\n",
    "\n",
    "S_w = sigma0+sigma1"
   ]
  },
  {
   "cell_type": "code",
   "execution_count": 4,
   "metadata": {},
   "outputs": [],
   "source": [
    "\"\"\" \n",
    "directly solve S^(-1) by using np.linalg.inv\n",
    "\"\"\"\n",
    "S_inv = np.linalg.inv(S_w)"
   ]
  },
  {
   "cell_type": "code",
   "execution_count": 5,
   "metadata": {},
   "outputs": [],
   "source": [
    "omega = S_inv @ (mu0-mu1)"
   ]
  },
  {
   "cell_type": "code",
   "execution_count": 6,
   "metadata": {},
   "outputs": [
    {
     "name": "stdout",
     "output_type": "stream",
     "text": [
      "centre point of X0: 0.2899769715861622\n",
      "cov of X0: 0.056964627200140214\n",
      "the poin of 0 is 0.4419265030134695\n",
      "the poin of 1 is 0.3911556512547802\n",
      "the poin of 2 is 0.28790813342043986\n",
      "the poin of 3 is 0.32398951881202065\n",
      "the poin of 4 is 0.24028330494024647\n",
      "the poin of 5 is 0.2341190454797918\n",
      "the poin of 6 is 0.1805398412693398\n",
      "the poin of 7 is 0.21989377449920944\n"
     ]
    }
   ],
   "source": [
    "print(\"centre point of X0:\",mu0 @ omega)\n",
    "print(\"cov of X0:\",omega@sigma0@omega)\n",
    "for index, x in enumerate(X0):\n",
    "    print(\"the poin of\", index, \"is\", x@omega)"
   ]
  },
  {
   "cell_type": "code",
   "execution_count": 7,
   "metadata": {},
   "outputs": [
    {
     "name": "stdout",
     "output_type": "stream",
     "text": [
      "centre point of X1: 0.18661150423684048\n",
      "cov of X1: 0.04640084014918153\n",
      "the poin of 8 is 0.16479865444520747\n",
      "the poin of 9 is 0.23283894183997622\n",
      "the poin of 10 is 0.07800169238528015\n",
      "the poin of 11 is 0.12338570822742427\n",
      "the poin of 12 is 0.212552979093571\n",
      "the poin of 13 is 0.24252263177410727\n",
      "the poin of 14 is 0.32606829378927393\n",
      "the poin of 15 is 0.1179063750479005\n",
      "the poin of 16 is 0.18142826152882366\n"
     ]
    }
   ],
   "source": [
    "print(\"centre point of X1:\", omega@mu1)\n",
    "print(\"cov of X1:\", omega@sigma1@omega)\n",
    "for index, x in enumerate(X1):\n",
    "    print(\"the poin of\", index+8, \"is\", x@omega)"
   ]
  }
 ],
 "metadata": {
  "kernelspec": {
   "display_name": "base",
   "language": "python",
   "name": "python3"
  },
  "language_info": {
   "codemirror_mode": {
    "name": "ipython",
    "version": 3
   },
   "file_extension": ".py",
   "mimetype": "text/x-python",
   "name": "python",
   "nbconvert_exporter": "python",
   "pygments_lexer": "ipython3",
   "version": "3.11.7"
  }
 },
 "nbformat": 4,
 "nbformat_minor": 2
}
